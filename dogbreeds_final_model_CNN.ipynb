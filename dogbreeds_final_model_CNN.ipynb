{
 "cells": [
  {
   "cell_type": "markdown",
   "metadata": {},
   "source": [
    "## Loading all of the necessary libraries"
   ]
  },
  {
   "cell_type": "code",
   "execution_count": null,
   "metadata": {
    "_cell_guid": "b1076dfc-b9ad-4769-8c92-a6c4dae69d19",
    "_uuid": "8f2839f25d086af736a60e9eeb907d3b93b6e0e5",
    "execution": {
     "iopub.execute_input": "2023-12-08T19:58:04.560886Z",
     "iopub.status.busy": "2023-12-08T19:58:04.560216Z",
     "iopub.status.idle": "2023-12-08T19:58:14.564687Z",
     "shell.execute_reply": "2023-12-08T19:58:14.563829Z",
     "shell.execute_reply.started": "2023-12-08T19:58:04.560858Z"
    }
   },
   "outputs": [],
   "source": [
    "import os\n",
    "import numpy as np\n",
    "import pandas as pd\n",
    "import seaborn as sns\n",
    "import matplotlib.pyplot as plt\n",
    " \n",
    "from sklearn.metrics import classification_report, confusion_matrix\n",
    " \n",
    "# deep learning libraries\n",
    "import tensorflow as tf\n",
    "import keras\n",
    "from keras.preprocessing.image import ImageDataGenerator\n",
    "from tensorflow.keras import applications\n",
    "from keras.models import Sequential, load_model\n",
    "from keras.layers import Conv2D, MaxPooling2D, GlobalAveragePooling2D, Flatten, Dense, Dropout\n",
    "from keras.preprocessing import image\n",
    "from random import sample\n",
    "from tensorflow.keras.models import load_model\n",
    "from tensorflow.keras.preprocessing import image\n",
    "from sklearn.metrics import classification_report\n",
    "\n",
    "import cv2\n",
    " \n",
    "import warnings\n",
    "warnings.filterwarnings('ignore')\n",
    "\n",
    "\n",
    "#define paths to the train, test and val datasets\n",
    "train_path='/kaggle/input/notebook5ef36487a5/train/'\n",
    "test_path='/kaggle/input/notebook5ef36487a5/test/'\n",
    "val_path='/kaggle/input/notebook5ef36487a5/val/'"
   ]
  },
  {
   "cell_type": "markdown",
   "metadata": {},
   "source": [
    "## Load our csv file with a names of the files belonging to the specific class"
   ]
  },
  {
   "cell_type": "code",
   "execution_count": null,
   "metadata": {
    "execution": {
     "iopub.execute_input": "2023-12-08T19:58:18.744981Z",
     "iopub.status.busy": "2023-12-08T19:58:18.744673Z",
     "iopub.status.idle": "2023-12-08T19:58:18.814818Z",
     "shell.execute_reply": "2023-12-08T19:58:18.813961Z",
     "shell.execute_reply.started": "2023-12-08T19:58:18.744956Z"
    }
   },
   "outputs": [],
   "source": [
    "# datasets\n",
    "labels = pd.read_csv(\"/kaggle/input/nazwy-plikow/nazwy_plikow.csv\", sep=',')\n",
    "\n",
    "\n",
    "# Display the DataFrame\n",
    "print(labels.head())"
   ]
  },
  {
   "cell_type": "markdown",
   "metadata": {},
   "source": [
    "## Adding jpg extension to our files"
   ]
  },
  {
   "cell_type": "code",
   "execution_count": null,
   "metadata": {
    "execution": {
     "iopub.execute_input": "2023-12-08T19:58:19.303060Z",
     "iopub.status.busy": "2023-12-08T19:58:19.302421Z",
     "iopub.status.idle": "2023-12-08T19:58:19.317135Z",
     "shell.execute_reply": "2023-12-08T19:58:19.316089Z",
     "shell.execute_reply.started": "2023-12-08T19:58:19.303026Z"
    }
   },
   "outputs": [],
   "source": [
    "def to_jpg(id):\n",
    "    return id+\".jpg\"\n",
    "\n",
    "\n",
    "labels['zdjecie'] = labels['zdjecie'].apply(to_jpg)"
   ]
  },
  {
   "cell_type": "markdown",
   "metadata": {},
   "source": [
    "## Data augmentation and pre-processing using tensorflow"
   ]
  },
  {
   "cell_type": "code",
   "execution_count": null,
   "metadata": {
    "execution": {
     "iopub.execute_input": "2023-12-08T20:07:07.086024Z",
     "iopub.status.busy": "2023-12-08T20:07:07.085643Z",
     "iopub.status.idle": "2023-12-08T20:08:09.029464Z",
     "shell.execute_reply": "2023-12-08T20:08:09.028673Z",
     "shell.execute_reply.started": "2023-12-08T20:07:07.085993Z"
    }
   },
   "outputs": [],
   "source": [
    "gen = ImageDataGenerator(\n",
    "                rescale=1./255.,\n",
    "                horizontal_flip = True,\n",
    "                rotation_range=20,  # Rotate images by up to 20 degrees\n",
    "                width_shift_range=0.1,  # Shift images horizontally by up to 10% of the width\n",
    "                height_shift_range=0.1,  # Shift images vertically by up to 10% of the height\n",
    "                shear_range=0.1,  # Shear transformations\n",
    ")\n",
    "\n",
    "train_generator = gen.flow_from_dataframe(\n",
    "    labels, # dataframe\n",
    "    directory = train_path,\n",
    "    x_col = 'zdjecie',\n",
    "    y_col = 'rasa',\n",
    "    color_mode=\"rgb\",\n",
    "    target_size = (256,256), # image height , image width\n",
    "    class_mode=\"sparse\",\n",
    "    batch_size=32,\n",
    "    shuffle=True,\n",
    "    seed=42,\n",
    ")\n",
    "\n",
    "\n",
    "val_gen = ImageDataGenerator(rescale=1./255.)\n",
    "validation_generator = val_gen.flow_from_dataframe(\n",
    "    labels, # dataframe\n",
    "    directory = val_path,\n",
    "    x_col = 'zdjecie',\n",
    "    y_col = 'rasa',\n",
    "    color_mode=\"rgb\",\n",
    "    target_size = (256,256), # image height , image width\n",
    "    class_mode=\"sparse\",\n",
    "    batch_size=32,\n",
    "    shuffle=True,\n",
    "    seed=42,\n",
    ")"
   ]
  },
  {
   "cell_type": "code",
   "execution_count": null,
   "metadata": {
    "execution": {
     "iopub.execute_input": "2023-12-07T17:35:39.470985Z",
     "iopub.status.busy": "2023-12-07T17:35:39.470244Z",
     "iopub.status.idle": "2023-12-07T17:35:39.481250Z",
     "shell.execute_reply": "2023-12-07T17:35:39.480270Z",
     "shell.execute_reply.started": "2023-12-07T17:35:39.470951Z"
    },
    "scrolled": true
   },
   "outputs": [],
   "source": [
    "#defining all of the class indicies for the train generator\n",
    "class_indices = train_generator.class_indices\n",
    "class_indices"
   ]
  },
  {
   "cell_type": "markdown",
   "metadata": {},
   "source": [
    "## Building our model"
   ]
  },
  {
   "cell_type": "code",
   "execution_count": null,
   "metadata": {
    "execution": {
     "iopub.execute_input": "2023-12-07T17:36:11.994697Z",
     "iopub.status.busy": "2023-12-07T17:36:11.994349Z",
     "iopub.status.idle": "2023-12-07T17:36:26.453095Z",
     "shell.execute_reply": "2023-12-07T17:36:26.452226Z",
     "shell.execute_reply.started": "2023-12-07T17:36:11.994672Z"
    }
   },
   "outputs": [],
   "source": [
    "# load the InceptionResNetV2 architecture with imagenet weights as base\n",
    "base_model = tf.keras.applications.InceptionResNetV2(\n",
    "                    include_top=False,\n",
    "                    weights='imagenet',\n",
    "                    input_shape=(256,256,3))\n",
    "\n",
    "base_model.trainable=False\n",
    "# For freezing the layer we make use of layer.trainable = False\n",
    "# means that its internal state will not change during training.\n",
    "# model's trainable weights will not be updated during fit(),\n",
    "# and also its state updates will not run.\n",
    "\n",
    "model = tf.keras.Sequential([ \n",
    "        base_model, \n",
    "        tf.keras.layers.BatchNormalization(renorm=True),\n",
    "        tf.keras.layers.GlobalAveragePooling2D(),\n",
    "        tf.keras.layers.Dense(512, activation='relu'),\n",
    "        tf.keras.layers.Dense(256, activation='relu'),\n",
    "        tf.keras.layers.BatchNormalization(renorm=True),\n",
    "        tf.keras.layers.Dense(256, activation='relu'),\n",
    "        tf.keras.layers.Dense(128, activation='relu'),\n",
    "        tf.keras.layers.Dropout(0.2),\n",
    "        tf.keras.layers.Dense(120, activation='softmax')\n",
    "    ])"
   ]
  },
  {
   "cell_type": "markdown",
   "metadata": {},
   "source": [
    "## Defining an optimizer for our model"
   ]
  },
  {
   "cell_type": "code",
   "execution_count": null,
   "metadata": {
    "execution": {
     "iopub.execute_input": "2023-12-07T17:36:33.889285Z",
     "iopub.status.busy": "2023-12-07T17:36:33.888942Z",
     "iopub.status.idle": "2023-12-07T17:36:33.923735Z",
     "shell.execute_reply": "2023-12-07T17:36:33.922942Z",
     "shell.execute_reply.started": "2023-12-07T17:36:33.889260Z"
    }
   },
   "outputs": [],
   "source": [
    "optimizer = tf.keras.optimizers.Adam(learning_rate=0.00001)\n",
    "model.compile(optimizer=optimizer ,loss='sparse_categorical_crossentropy',metrics=['accuracy'])"
   ]
  },
  {
   "cell_type": "code",
   "execution_count": null,
   "metadata": {
    "execution": {
     "iopub.execute_input": "2023-12-07T17:36:34.798235Z",
     "iopub.status.busy": "2023-12-07T17:36:34.797518Z",
     "iopub.status.idle": "2023-12-07T17:36:34.889123Z",
     "shell.execute_reply": "2023-12-07T17:36:34.888166Z",
     "shell.execute_reply.started": "2023-12-07T17:36:34.798202Z"
    }
   },
   "outputs": [],
   "source": [
    "model.summary()"
   ]
  },
  {
   "cell_type": "markdown",
   "metadata": {},
   "source": [
    "## Training model for 25 epochs"
   ]
  },
  {
   "cell_type": "code",
   "execution_count": null,
   "metadata": {
    "execution": {
     "iopub.execute_input": "2023-12-07T17:36:35.582144Z",
     "iopub.status.busy": "2023-12-07T17:36:35.581801Z",
     "iopub.status.idle": "2023-12-07T19:13:51.134906Z",
     "shell.execute_reply": "2023-12-07T19:13:51.133245Z",
     "shell.execute_reply.started": "2023-12-07T17:36:35.582119Z"
    }
   },
   "outputs": [],
   "source": [
    "batch_size=32\n",
    "STEP_SIZE_TRAIN = train_generator.n//train_generator.batch_size\n",
    "STEP_SIZE_VALID = validation_generator.n//validation_generator.batch_size\n",
    "\n",
    "# fit model\n",
    "history = model.fit(train_generator,\n",
    "                    steps_per_epoch=STEP_SIZE_TRAIN,\n",
    "                    validation_data=validation_generator,\n",
    "                    validation_steps=STEP_SIZE_VALID,\n",
    "                    epochs=25)"
   ]
  },
  {
   "cell_type": "markdown",
   "metadata": {},
   "source": [
    "## Saving model"
   ]
  },
  {
   "cell_type": "code",
   "execution_count": null,
   "metadata": {
    "execution": {
     "iopub.execute_input": "2023-12-06T21:12:35.244293Z",
     "iopub.status.busy": "2023-12-06T21:12:35.241408Z",
     "iopub.status.idle": "2023-12-06T21:12:36.617441Z",
     "shell.execute_reply": "2023-12-06T21:12:36.616561Z",
     "shell.execute_reply.started": "2023-12-06T21:12:35.244248Z"
    }
   },
   "outputs": [],
   "source": [
    "model.save(\"Model_Final_.h5\")\n"
   ]
  },
  {
   "cell_type": "markdown",
   "metadata": {},
   "source": [
    "## Plot the accuracy"
   ]
  },
  {
   "cell_type": "code",
   "execution_count": null,
   "metadata": {
    "execution": {
     "iopub.execute_input": "2023-12-06T21:12:39.291772Z",
     "iopub.status.busy": "2023-12-06T21:12:39.291421Z",
     "iopub.status.idle": "2023-12-06T21:12:39.761813Z",
     "shell.execute_reply": "2023-12-06T21:12:39.760905Z",
     "shell.execute_reply.started": "2023-12-06T21:12:39.291745Z"
    }
   },
   "outputs": [],
   "source": [
    "# store results\n",
    "acc = history.history['accuracy']\n",
    "val_acc = history.history['val_accuracy']\n",
    "loss = history.history['loss']\n",
    "val_loss = history.history['val_loss']\n",
    "\n",
    "# plot results\n",
    "# accuracy\n",
    "plt.figure(figsize=(10, 16))\n",
    "plt.rcParams['figure.figsize'] = [16, 9]\n",
    "plt.rcParams['font.size'] = 14\n",
    "plt.rcParams['axes.grid'] = True\n",
    "plt.rcParams['figure.facecolor'] = 'white'\n",
    "plt.subplot(2, 1, 1)\n",
    "plt.plot(acc, label='Training Accuracy')\n",
    "plt.plot(val_acc, label='Validation Accuracy')\n",
    "plt.legend(loc='lower right')\n",
    "plt.ylabel('Accuracy')\n",
    "plt.title(f'\\nTraining and Validation Accuracy. \\nTrain Accuracy: {str(acc[-1])}\\nValidation Accuracy: {str(val_acc[-1])}')\n"
   ]
  },
  {
   "cell_type": "markdown",
   "metadata": {},
   "source": [
    "## Plot the loss"
   ]
  },
  {
   "cell_type": "code",
   "execution_count": null,
   "metadata": {
    "execution": {
     "iopub.execute_input": "2023-12-06T21:12:45.209774Z",
     "iopub.status.busy": "2023-12-06T21:12:45.208778Z",
     "iopub.status.idle": "2023-12-06T21:12:45.650480Z",
     "shell.execute_reply": "2023-12-06T21:12:45.649538Z",
     "shell.execute_reply.started": "2023-12-06T21:12:45.209735Z"
    }
   },
   "outputs": [],
   "source": [
    "# plot loss\n",
    "plt.subplot(2, 1, 2)\n",
    "plt.plot(loss, label='Training Loss')\n",
    "plt.plot(val_loss, label='Validation Loss')\n",
    "plt.legend(loc='upper right')\n",
    "plt.ylabel('Cross Entropy')\n",
    "plt.title(f'Training and Validation Loss. \\nTrain Loss: {str(loss[-1])}\\nValidation Loss: {str(val_loss[-1])}')\n",
    "plt.xlabel('epoch')\n",
    "plt.tight_layout(pad=3.0)\n",
    "plt.show()\n",
    "\n"
   ]
  },
  {
   "cell_type": "markdown",
   "metadata": {},
   "source": [
    "## Creating the report for our model"
   ]
  },
  {
   "cell_type": "code",
   "execution_count": null,
   "metadata": {
    "execution": {
     "iopub.execute_input": "2023-12-08T19:59:35.960551Z",
     "iopub.status.busy": "2023-12-08T19:59:35.960164Z",
     "iopub.status.idle": "2023-12-08T20:03:57.479571Z",
     "shell.execute_reply": "2023-12-08T20:03:57.478806Z",
     "shell.execute_reply.started": "2023-12-08T19:59:35.960522Z"
    },
    "scrolled": true
   },
   "outputs": [],
   "source": [
    "# Load the trained model\n",
    "model = load_model('/kaggle/input/model-final/Model_Final_.h5')\n",
    "\n",
    "# Load the class mapping from CSV\n",
    "csv_file_path = '/kaggle/input/class-indexes/class_indexes.csv'\n",
    "df = pd.read_csv(csv_file_path)\n",
    "\n",
    "# Specify the test directory\n",
    "test_dir = '/kaggle/input/notebook5ef36487a5/test/'\n",
    "\n",
    "# List all files in the test directory\n",
    "all_files = os.listdir(test_dir)\n",
    "\n",
    "# Initialize lists to store true labels and predicted labels\n",
    "true_labels = []\n",
    "predicted_labels = []\n",
    "\n",
    "for file_name in all_files:\n",
    "    # Load and preprocess each image for prediction\n",
    "    img_path = os.path.join(test_dir, file_name)\n",
    "    img = image.load_img(img_path, target_size=(256, 256))\n",
    "    img_array = image.img_to_array(img)\n",
    "    img_array = np.expand_dims(img_array, axis=0)\n",
    "    img_array /= 255.0  # Normalize the image data\n",
    "\n",
    "    # Make predictions\n",
    "    predictions = model.predict(img_array)\n",
    "\n",
    "    # Get the index of the predicted class\n",
    "    predicted_class_index = np.argmax(predictions)\n",
    "\n",
    "    # Convert predicted class index to class name\n",
    "    predicted_class = df.iloc[predicted_class_index, 0]\n",
    "\n",
    "    # Get the true class from the ground truth dataset\n",
    "    true_class = labels.loc[labels['zdjecie'] == file_name, 'rasa'].values[0]\n",
    "\n",
    "    # Append true and predicted labels to the lists\n",
    "    true_labels.append(true_class)\n",
    "    predicted_labels.append(predicted_class)\n",
    "\n",
    "# Calculate recall and F1 score\n",
    "report = classification_report(true_labels, predicted_labels)\n",
    "report_dict = classification_report(true_labels, predicted_labels, output_dict=True)\n",
    "report_df = pd.DataFrame(report_dict).transpose()\n",
    "\n",
    "# Save the DataFrame to a CSV file\n",
    "report_df.to_csv('/kaggle/working/classification_report_final.csv', index=True)"
   ]
  },
  {
   "cell_type": "markdown",
   "metadata": {},
   "source": [
    "## Visualizing the metrics from the report (precision, recall and F1 score) in the form of the boxplots"
   ]
  },
  {
   "cell_type": "code",
   "execution_count": null,
   "metadata": {
    "execution": {
     "iopub.execute_input": "2023-12-08T20:05:14.105331Z",
     "iopub.status.busy": "2023-12-08T20:05:14.104600Z",
     "iopub.status.idle": "2023-12-08T20:05:14.815560Z",
     "shell.execute_reply": "2023-12-08T20:05:14.814483Z",
     "shell.execute_reply.started": "2023-12-08T20:05:14.105297Z"
    }
   },
   "outputs": [],
   "source": [
    "# Load the classification report DataFrame from the CSV file\n",
    "report_df = pd.read_csv('/kaggle/working/classification_report_final.csv', index_col=0)\n",
    "\n",
    "# Plot precision, recall, and F1 score\n",
    "sns.set(style=\"whitegrid\")\n",
    "\n",
    "# Create box plots for precision, recall, and F1 score\n",
    "fig, axes = plt.subplots(nrows=1, ncols=3, figsize=(15, 5))\n",
    "\n",
    "# Box plot for precision\n",
    "sns.boxplot(y=report_df['precision'], ax=axes[0], color='blue')\n",
    "axes[0].set_title('Precision')\n",
    "\n",
    "# Box plot for recall\n",
    "sns.boxplot(y=report_df['recall'], ax=axes[1], color='green')\n",
    "axes[1].set_title('Recall')\n",
    "\n",
    "# Box plot for F1 score\n",
    "sns.boxplot(y=report_df['f1-score'], ax=axes[2], color='orange')\n",
    "axes[2].set_title('F1 Score')\n",
    "\n",
    "plt.tight_layout()\n",
    "plt.show()\n"
   ]
  },
  {
   "cell_type": "markdown",
   "metadata": {},
   "source": [
    "## Creating a generator for the test set"
   ]
  },
  {
   "cell_type": "code",
   "execution_count": null,
   "metadata": {
    "execution": {
     "iopub.execute_input": "2023-12-08T20:05:41.703222Z",
     "iopub.status.busy": "2023-12-08T20:05:41.702846Z",
     "iopub.status.idle": "2023-12-08T20:05:53.748588Z",
     "shell.execute_reply": "2023-12-08T20:05:53.747798Z",
     "shell.execute_reply.started": "2023-12-08T20:05:41.703193Z"
    }
   },
   "outputs": [],
   "source": [
    "test_datagen = image.ImageDataGenerator(rescale=1./255)\n",
    "\n",
    "# Specified batch size\n",
    "batch_size = 32\n",
    "\n",
    "test_generator = test_datagen.flow_from_dataframe(\n",
    "    labels, # dataframe\n",
    "    directory=test_path,  # images data path\n",
    "    x_col='zdjecie',\n",
    "    y_col='rasa',\n",
    "    color_mode=\"rgb\",\n",
    "    target_size=(256, 256), \n",
    "    batch_size=batch_size,\n",
    "    class_mode='sparse',\n",
    "    shuffle=True,\n",
    "    seed=42\n",
    ")"
   ]
  },
  {
   "cell_type": "markdown",
   "metadata": {},
   "source": [
    "## Evaluation of the model for the test data set"
   ]
  },
  {
   "cell_type": "code",
   "execution_count": null,
   "metadata": {
    "execution": {
     "iopub.execute_input": "2023-12-08T20:06:17.728124Z",
     "iopub.status.busy": "2023-12-08T20:06:17.727402Z",
     "iopub.status.idle": "2023-12-08T20:06:47.218554Z",
     "shell.execute_reply": "2023-12-08T20:06:47.217529Z",
     "shell.execute_reply.started": "2023-12-08T20:06:17.728091Z"
    }
   },
   "outputs": [],
   "source": [
    "model = load_model('/kaggle/input/model-final/Model_Final_.h5')\n",
    "accuracy_score = model.evaluate(test_generator)\n",
    "print(accuracy_score)\n",
    "print(\"Accuracy: {:.4f}%\".format(accuracy_score[1] * 100)) \n",
    "\n",
    "print(\"Loss: \",accuracy_score[0])"
   ]
  },
  {
   "cell_type": "markdown",
   "metadata": {},
   "source": [
    "## Evaluation of the model for the validation data set"
   ]
  },
  {
   "cell_type": "code",
   "execution_count": null,
   "metadata": {
    "execution": {
     "iopub.execute_input": "2023-12-08T20:08:09.031172Z",
     "iopub.status.busy": "2023-12-08T20:08:09.030878Z",
     "iopub.status.idle": "2023-12-08T20:09:01.713545Z",
     "shell.execute_reply": "2023-12-08T20:09:01.712539Z",
     "shell.execute_reply.started": "2023-12-08T20:08:09.031147Z"
    }
   },
   "outputs": [],
   "source": [
    "model = load_model('/kaggle/input/model-final/Model_Final_.h5')\n",
    "accuracy_score = model.evaluate(validation_generator)\n",
    "print(accuracy_score)\n",
    "print(\"Accuracy: {:.4f}%\".format(accuracy_score[1] * 100)) \n",
    "\n",
    "print(\"Loss: \",accuracy_score[0])"
   ]
  },
  {
   "cell_type": "markdown",
   "metadata": {},
   "source": [
    "## List the number of the classes below the average base on the created report"
   ]
  },
  {
   "cell_type": "code",
   "execution_count": null,
   "metadata": {
    "execution": {
     "iopub.execute_input": "2023-11-22T15:21:40.134431Z",
     "iopub.status.busy": "2023-11-22T15:21:40.133657Z",
     "iopub.status.idle": "2023-11-22T15:21:40.148551Z",
     "shell.execute_reply": "2023-11-22T15:21:40.147530Z",
     "shell.execute_reply.started": "2023-11-22T15:21:40.134398Z"
    }
   },
   "outputs": [],
   "source": [
    "report_df = pd.read_csv('/kaggle/input/classification-report/classification_report.csv', index_col=0)\n",
    "\n",
    "# Calculate the average precision\n",
    "average_precision = report_df['precision'].mean()\n",
    "\n",
    "# Filter rows where precision is below the average\n",
    "below_average_precision = report_df[report_df['precision'] < average_precision]\n",
    "\n",
    "# Display the filtered DataFrame\n",
    "print(\"Average precision:\")\n",
    "print(average_precision)\n",
    "print(\"------------------\")\n",
    "print(\"Classes with Precision Below Average:\")\n",
    "print(len(below_average_precision))"
   ]
  }
 ],
 "metadata": {
  "kaggle": {
   "accelerator": "nvidiaTeslaT4",
   "dataSources": [
    {
     "datasetId": 3926206,
     "sourceId": 6828020,
     "sourceType": "datasetVersion"
    },
    {
     "datasetId": 3941830,
     "sourceId": 6858076,
     "sourceType": "datasetVersion"
    },
    {
     "datasetId": 3953851,
     "sourceId": 6881693,
     "sourceType": "datasetVersion"
    },
    {
     "datasetId": 3953933,
     "sourceId": 6881835,
     "sourceType": "datasetVersion"
    },
    {
     "datasetId": 4025472,
     "sourceId": 7002378,
     "sourceType": "datasetVersion"
    },
    {
     "datasetId": 4025489,
     "sourceId": 7002400,
     "sourceType": "datasetVersion"
    },
    {
     "datasetId": 4025526,
     "sourceId": 7002453,
     "sourceType": "datasetVersion"
    },
    {
     "datasetId": 4127213,
     "sourceId": 7148775,
     "sourceType": "datasetVersion"
    },
    {
     "datasetId": 4133355,
     "sourceId": 7157014,
     "sourceType": "datasetVersion"
    },
    {
     "sourceId": 153067766,
     "sourceType": "kernelVersion"
    }
   ],
   "dockerImageVersionId": 30559,
   "isGpuEnabled": true,
   "isInternetEnabled": true,
   "language": "python",
   "sourceType": "notebook"
  },
  "kernelspec": {
   "display_name": "Python 3 (ipykernel)",
   "language": "python",
   "name": "python3"
  },
  "language_info": {
   "codemirror_mode": {
    "name": "ipython",
    "version": 3
   },
   "file_extension": ".py",
   "mimetype": "text/x-python",
   "name": "python",
   "nbconvert_exporter": "python",
   "pygments_lexer": "ipython3",
   "version": "3.9.7"
  }
 },
 "nbformat": 4,
 "nbformat_minor": 4
}
